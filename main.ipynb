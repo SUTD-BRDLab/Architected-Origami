{
 "cells": [
  {
   "cell_type": "code",
   "execution_count": 20,
   "metadata": {},
   "outputs": [],
   "source": [
    "from data_loader import read_data_file, draw_polygons\n",
    "from polygon_manipulator import add_hinges, find_outer_countour, find_middle_polygons\n",
    "from gcode_operation import generate_gcode\n",
    "\n",
    "layer_height = 0.4\n",
    "line_width = 0.4\n"
   ]
  },
  {
   "cell_type": "code",
   "execution_count": null,
   "metadata": {},
   "outputs": [],
   "source": [
    "foldername = 'example_data_files/'\n",
    "# filename = 'single_45'\n",
    "# filename = 'single_45_mountain'\n",
    "# filename = 'single_90'\n",
    "# filename = 'single_180'\n",
    "# filename = 'zig-zag'\n",
    "# filename = 'cube'\n",
    "filename = 'bird'\n",
    "\n",
    "polygons = read_data_file(foldername + filename + '.dat')\n",
    "# draw_polygons(polygons, plot_title='Original polygons')\n",
    "\n",
    "polygons_final = add_hinges(polygons)\n",
    "# draw_polygons(polygons_final, plot_title='Polygons with hinges')\n",
    "\n",
    "outer_countour = find_outer_countour(polygons)\n",
    "# draw_polygons([[outer_countour, []]], plot_title='Outer countour')\n",
    "\n",
    "middle_polygons = find_middle_polygons(polygons_final)\n",
    "\n",
    "generate_gcode(f'gcode/{filename}_bottom.gcode', filename, polygons_final, outer_countour, middle_polygons, 'bottom', layer_height, line_width)\n",
    "generate_gcode(f'gcode/{filename}_top.gcode', filename, polygons_final, outer_countour, middle_polygons, 'top', layer_height, line_width)"
   ]
  },
  {
   "cell_type": "code",
   "execution_count": null,
   "metadata": {},
   "outputs": [],
   "source": []
  }
 ],
 "metadata": {
  "kernelspec": {
   "display_name": "gcode",
   "language": "python",
   "name": "python3"
  },
  "language_info": {
   "codemirror_mode": {
    "name": "ipython",
    "version": 3
   },
   "file_extension": ".py",
   "mimetype": "text/x-python",
   "name": "python",
   "nbconvert_exporter": "python",
   "pygments_lexer": "ipython3",
   "version": "3.8.20"
  }
 },
 "nbformat": 4,
 "nbformat_minor": 2
}
